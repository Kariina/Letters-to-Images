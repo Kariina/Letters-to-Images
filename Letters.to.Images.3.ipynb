{
 "cells": [
  {
   "cell_type": "code",
   "execution_count": 1,
   "metadata": {
    "collapsed": true
   },
   "outputs": [],
   "source": [
    "from IPython.display import Image as ipython_image\n",
    "from PIL import Image, ImageFont, ImageDraw\n",
    "import random\n",
    "from random import randint\n",
    "import string\n"
   ]
  },
  {
   "cell_type": "code",
   "execution_count": null,
   "metadata": {
    "collapsed": false
   },
   "outputs": [],
   "source": [
    "def draws_rectangle(draws_image, word_or_words_entered):\n",
    "    for letter in word_or_words_entered:\n",
    "        random_location_1 = randint(0, 500)\n",
    "        random_location_2 = randint(0, 500)\n",
    "        random_location_3 = randint(0, 500)\n",
    "        random_location_4 = randint(0, 500)\n",
    "        draws_image.rectangle(((random_location_1,random_location_2),(random_location_3,random_location_4)), fill=letter_colours[letter])\n",
    "     \n",
    "def creates_image(horizontal_width, vertical_height):\n",
    "    image_parameters = Image.new('RGB', (horizontal_width, vertical_height), (255, 255, 255))\n",
    "    draws_image = ImageDraw.Draw(image_parameters)\n",
    "    return draws_image, image_parameters\n",
    "    \n",
    "word_or_words_entered = raw_input('Enter word(s)')\n",
    "letter_colours = {}\n",
    "alphabet_list = list(string.lowercase)\n",
    "\n",
    "for whole_number in range(0, 26):\n",
    "    first_colour = randint(0,255)\n",
    "    second_colour = randint(0, 255)\n",
    "    third_colour = randint(0, 255)\n",
    "    letter_colours[alphabet_list[whole_number]] = (first_colour, second_colour, third_colour)\n",
    "\n",
    "    \n",
    "\n",
    "if len(word_or_words_entered) > 0:\n",
    "    word_or_words_entered = word_or_words_entered.replace(\" \",\"\")\n",
    "else:\n",
    "    print \"Enter word(s)\"\n",
    "\n",
    "if word_or_words_entered.isalpha():\n",
    "    \n",
    "    draws_image, image_parameters = creates_image(500, 500)\n",
    "    \n",
    "    draws_rectangle(draws_image, word_or_words_entered)\n",
    "else:\n",
    "    print \"Enter word(s)\"\n",
    "image_parameters.save(\"rectangle.png\")  \n",
    "ipython_image(filename=\"rectangle.png\")\n",
    "\n",
    "\n",
    "\n",
    "\n"
   ]
  }
 ],
 "metadata": {
  "kernelspec": {
   "display_name": "Python 2",
   "language": "python",
   "name": "python2"
  },
  "language_info": {
   "codemirror_mode": {
    "name": "ipython",
    "version": 2
   },
   "file_extension": ".py",
   "mimetype": "text/x-python",
   "name": "python",
   "nbconvert_exporter": "python",
   "pygments_lexer": "ipython2",
   "version": "2.7.11"
  }
 },
 "nbformat": 4,
 "nbformat_minor": 0
}
